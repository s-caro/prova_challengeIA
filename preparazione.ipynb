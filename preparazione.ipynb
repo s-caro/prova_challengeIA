{
 "cells": [
  {
   "cell_type": "code",
   "execution_count": null,
   "id": "71b38e76",
   "metadata": {},
   "outputs": [],
   "source": [
    "!pip install pandas\n",
    "!pip install sklearn"
   ]
  },
  {
   "cell_type": "code",
   "execution_count": null,
   "id": "b2f0a504",
   "metadata": {},
   "outputs": [],
   "source": [
    "import pandas as pd\n",
    "from sklearn.model_selection import train_test_split\n",
    "from sklearn.preprocessing import LabelEncoder"
   ]
  },
  {
   "cell_type": "code",
   "execution_count": null,
   "id": "0ee1efa4",
   "metadata": {},
   "outputs": [],
   "source": [
    "dataset = pd.read_csv(\"mushrooms.partial.csv\")"
   ]
  },
  {
   "cell_type": "code",
   "execution_count": null,
   "id": "56204c5d",
   "metadata": {},
   "outputs": [],
   "source": [
    "# vogliamo vedere tutte le righe e tutte le colonne\n",
    "pd.set_option(\"max_columns\", None) \n",
    "pd.set_option(\"max_rows\", None)"
   ]
  },
  {
   "cell_type": "markdown",
   "id": "7a91f09e",
   "metadata": {},
   "source": [
    "PREPOCESSAMENTO\n",
    "trasformo le stringhe in int"
   ]
  },
  {
   "cell_type": "code",
   "execution_count": null,
   "id": "b9b0378c",
   "metadata": {
    "scrolled": true
   },
   "outputs": [],
   "source": [
    "# cerchiamo se ci sono valori mancanti\n",
    "dataset.isna().sum()"
   ]
  },
  {
   "cell_type": "code",
   "execution_count": null,
   "id": "7fa9cf78",
   "metadata": {},
   "outputs": [],
   "source": [
    "#trasformo le string in int\n",
    "mappings = list()\n",
    "encoder = LabelEncoder()\n",
    "\n",
    "for column in dataset.columns:\n",
    "    dataset[column] = encoder.fit_transform(dataset[column])"
   ]
  },
  {
   "cell_type": "markdown",
   "id": "64d360bc",
   "metadata": {},
   "source": [
    "FASE DI SPLITTING"
   ]
  },
  {
   "cell_type": "code",
   "execution_count": null,
   "id": "9d1ef1e8",
   "metadata": {},
   "outputs": [],
   "source": [
    "dati_train, dati_test = train_test_split(dataset, test_size = 0.25, random_state = 41)"
   ]
  },
  {
   "cell_type": "code",
   "execution_count": null,
   "id": "c4448c6d",
   "metadata": {},
   "outputs": [],
   "source": [
    "dati_train.head()"
   ]
  },
  {
   "cell_type": "code",
   "execution_count": null,
   "id": "13611e66",
   "metadata": {
    "scrolled": false
   },
   "outputs": [],
   "source": [
    "dati_test.head()"
   ]
  },
  {
   "cell_type": "code",
   "execution_count": null,
   "id": "39347c94",
   "metadata": {},
   "outputs": [],
   "source": [
    "dati_train.to_csv(\"train.csv\", index=False)"
   ]
  },
  {
   "cell_type": "code",
   "execution_count": null,
   "id": "d375ec32",
   "metadata": {},
   "outputs": [],
   "source": [
    "dati_test.to_csv(\"test.csv\", index=False)"
   ]
  },
  {
   "cell_type": "code",
   "execution_count": null,
   "id": "2da95dec",
   "metadata": {},
   "outputs": [],
   "source": [
    "dati_train.columns"
   ]
  }
 ],
 "metadata": {
  "kernelspec": {
   "display_name": "Python 3",
   "language": "python",
   "name": "python3"
  },
  "language_info": {
   "codemirror_mode": {
    "name": "ipython",
    "version": 3
   },
   "file_extension": ".py",
   "mimetype": "text/x-python",
   "name": "python",
   "nbconvert_exporter": "python",
   "pygments_lexer": "ipython3",
   "version": "3.8.8"
  }
 },
 "nbformat": 4,
 "nbformat_minor": 5
}
